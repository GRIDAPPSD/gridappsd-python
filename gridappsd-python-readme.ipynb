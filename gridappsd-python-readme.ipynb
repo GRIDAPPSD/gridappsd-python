{
 "cells": [
  {
   "cell_type": "markdown",
   "metadata": {},
   "source": [
    "# gridappsd-python\n",
    "Python library for developing applications and services against the gridappsd api\n",
    "\n",
    "## Requirements\n",
    "\n",
    "The gridappsd-python library requires a  python version >= 3.6 and < 4 in order to work properly (Note no testing\n",
    "has been done with python 4 to date).\n",
    "\n",
    "## Installation\n",
    "\n",
    "The recommended installation of `gridappsd-python` is in a separate virtual environment.  Executing the following\n",
    "will create an environment called `griddapps-env`.\n",
    "\n",
    "```shell\n",
    "python3 -m venv gridappsd-env\n",
    "```"
   ]
  },
  {
   "cell_type": "code",
   "execution_count": null,
   "metadata": {
    "tags": [
     "remove_cell"
    ]
   },
   "outputs": [],
   "source": [
    "# Execute this shell script from within python notebook:\n",
    "!python3 -m venv gridappsd-env"
   ]
  },
  {
   "cell_type": "markdown",
   "metadata": {},
   "source": [
    "Sourcing the gridappsd-env activates the newly created python environment.\n",
    "\n",
    "```shell\n",
    "source gridappsd-env/bin/activate\n",
    "```"
   ]
  },
  {
   "cell_type": "code",
   "execution_count": null,
   "metadata": {
    "tags": [
     "remove_cell"
    ]
   },
   "outputs": [],
   "source": [
    "# Execute this shell script from within python notebook:\n",
    "!source gridappsd-env/bin/activate"
   ]
  },
  {
   "cell_type": "markdown",
   "metadata": {},
   "source": [
    "Upgrade pip to the latest (some packages require 19.0+ version of pip).\n",
    "\n",
    "```shell\n",
    "python -m pip --upgrade pip\n",
    "```"
   ]
  },
  {
   "cell_type": "code",
   "execution_count": null,
   "metadata": {
    "tags": [
     "remove_cell"
    ]
   },
   "outputs": [],
   "source": [
    "# Execute this shell script from within python notebook:\n",
    "!python -m pip --upgrade pip"
   ]
  },
  {
   "cell_type": "markdown",
   "metadata": {},
   "source": [
    "Install the latest `gridappsd-python` and its dependencies in the virtual environment.\n",
    "\n",
    "```shell\n",
    "pip install gridappsd-python\n",
    "```"
   ]
  },
  {
   "cell_type": "code",
   "execution_count": null,
   "metadata": {
    "tags": [
     "remove_cell"
    ]
   },
   "outputs": [],
   "source": [
    "# Execute this shell script from within python notebook:\n",
    "!pip install gridappsd-python"
   ]
  },
  {
   "cell_type": "markdown",
   "metadata": {},
   "source": [
    "### Verifying things are working properly\n",
    "\n",
    "The following code snippet assumes you have created a gridappsd instance using the steps in\n",
    "https://github.com/GRIDAPPSD/gridappsd-docker.\n",
    "\n",
    "Create a test script (tester.py) with the following content."
   ]
  },
  {
   "cell_type": "code",
   "execution_count": null,
   "metadata": {},
   "outputs": [],
   "source": [
    "from gridappsd import GridAPPSD\n",
    "\n",
    "def on_message_callback(header, message):\n",
    "    print(f\"header: {header} message: {message}\")\n",
    "\n",
    "# Note these should be changed on the server in a cyber secure environment!\n",
    "username = \"app_user\"\n",
    "password = \"1234App\"\n",
    "\n",
    "# Note: there are other parameters for connecting to\n",
    "# systems other than localhost\n",
    "gapps = GridAPPSD(username=username, password=password)\n",
    "\n",
    "assert gapps.connected\n",
    "\n",
    "gapps.send('send.topic', {\"foo\": \"bar\"})\n",
    "\n",
    "# Note we are sending the function not executing the function in the second parameter\n",
    "gapps.subscribe('subscribe.topic', on_message_callback)\n",
    "\n",
    "gapps.send('subcribe.topic', 'A message about subscription')\n",
    "\n",
    "time.sleep(5)\n",
    "\n",
    "gapps.close()"
   ]
  },
  {
   "cell_type": "markdown",
   "metadata": {},
   "source": [
    "Start up the gridappsd-docker enabled platform.  Then run the following to execute the tester.py script\n",
    "\n",
    "```shell\n",
    "python tester.py\n",
    "```\n"
   ]
  },
  {
   "cell_type": "code",
   "execution_count": null,
   "metadata": {
    "tags": [
     "remove_cell"
    ]
   },
   "outputs": [],
   "source": [
    "# Execute this shell script from within python notebook\n",
    "!python tester.py"
   ]
  },
  {
   "cell_type": "markdown",
   "metadata": {},
   "source": [
    "## Application Developers\n",
    "\n",
    "Developing applications against gridappsd using the `gridappsd-python` library should follow the same steps\n",
    "as above, however with a couple of environmental variables specified.  The following environmental variables are\n",
    "available to provide the same context that would be available from inside the application docker container.  These\n",
    "are useful to know for developing your application outside of the docker context (e.g. in a python notebook).\n",
    "\n",
    "***NOTE: you can also define these your ~./bashrc file so you don't have to specify them all the time***\n",
    "\n",
    "```shell\n",
    "# export allows all processes started by this shell to have access to the global variable\n",
    "\n",
    "# address where the gridappsd server is running - default localhost\n",
    "export GRIDAPPSD_ADDRESS=localhost\n",
    "\n",
    "# port to connect to on the gridappsd server (the stomp client port)\n",
    "export GRIDAPPSD_PORT=61613\n",
    "\n",
    "# username to connect to the gridappsd server\n",
    "export GRIDAPPSD_USER=app_user\n",
    "\n",
    "# password to connect to the gridappsd server\n",
    "export GRIDAPPSD_PASS=1234App\n",
    "\n",
    "# Note these should be changed on the server in a cyber secure environment!\n",
    "```"
   ]
  },
  {
   "cell_type": "code",
   "execution_count": null,
   "metadata": {
    "tags": [
     "remove_cell"
    ]
   },
   "outputs": [],
   "source": [
    "# Run these shell scripts from within the python notebook\n",
    "\n",
    "# address where the gridappsd server is running - default localhost\n",
    "!export GRIDAPPSD_ADDRESS=localhost\n",
    "\n",
    "# port to connect to on the gridappsd server (the stomp client port)\n",
    "!export GRIDAPPSD_PORT=61613\n",
    "\n",
    "# username to connect to the gridappsd server\n",
    "!export GRIDAPPSD_USER=app_user\n",
    "\n",
    "# password to connect to the gridappsd server\n",
    "!export GRIDAPPSD_PASS=1234App\n",
    "\n"
   ]
  },
  {
   "cell_type": "markdown",
   "metadata": {},
   "source": [
    "The following is the same tester code as above, but with the environment variables set.  The environment variables\n",
    "should be set in your environment when running the application inside our docker container."
   ]
  },
  {
   "cell_type": "code",
   "execution_count": null,
   "metadata": {},
   "outputs": [],
   "source": [
    "from gridappsd import GridAPPSD\n",
    "\n",
    "def on_message_callback(header, message):\n",
    "    print(f\"header: {header} message: {message}\")\n",
    "\n",
    "# Create GridAPPSD object and connect to the gridappsd server.\n",
    "gapps = GridAPPSD()\n",
    "\n",
    "assert gapps.connected\n",
    "\n",
    "gapps.send('send.topic', {\"foo\": \"bar\"})\n",
    "\n",
    "# Note we are sending the function not executing the function in the second parameter\n",
    "gapps.subscribe('subscribe.topic', on_message_callback)\n",
    "\n",
    "gapps.send('subcribe.topic', 'A message about subscription')\n",
    "\n",
    "time.sleep(5)\n",
    "\n",
    "gapps.close()"
   ]
  },
  {
   "cell_type": "markdown",
   "metadata": {},
   "source": [
    "## Developers\n",
    "\n",
    "This project uses poetry to build the environment for execution.  Follow the instructions\n",
    "https://python-poetry.org/docs/#installation to install poetry.  As a developer I prefer not to have poetry installed\n",
    "in the same virtual environment that my projects are in.\n",
    "\n",
    "Clone the github repository:\n",
    "\n",
    "```shell\n",
    "git clone https://github.com/GRIDAPPSD/gridappsd-python -b develop\n",
    "cd gridappsd-python\n",
    "```"
   ]
  },
  {
   "cell_type": "code",
   "execution_count": null,
   "metadata": {
    "tags": [
     "remove_cell"
    ]
   },
   "outputs": [],
   "source": [
    "# Run this shell script from within the python notebook\n",
    "!git clone https://github.com/GRIDAPPSD/gridappsd-python -b develop\n",
    "!cd gridappsd-python"
   ]
  },
  {
   "cell_type": "markdown",
   "metadata": {},
   "source": [
    "The following commands build and install a local wheel into an environment created just for this package.\n",
    "\n",
    "```shell\n",
    "# Build the project (stores in dist directory both .tar.gz and .whl file)\n",
    "poetry build\n",
    "\n",
    "# Install the wheel into the environment and the dev dependencies\n",
    "poetry install\n",
    "\n",
    "# Install only the library dependencies\n",
    "poetry install --no-dev\n",
    "```\n"
   ]
  },
  {
   "cell_type": "code",
   "execution_count": null,
   "metadata": {
    "tags": [
     "remove_cell"
    ]
   },
   "outputs": [],
   "source": [
    "# Run this shell script from within the python notebook\n",
    "# Build the project (stores in dist directory both .tar.gz and .whl file)\n",
    "!poetry build\n",
    "\n",
    "# Install the wheel into the environment and the dev dependencies\n",
    "!poetry install\n",
    "\n",
    "# Install only the library dependencies\n",
    "!poetry install --no-dev"
   ]
  },
  {
   "cell_type": "markdown",
   "metadata": {},
   "source": [
    "***Note:*** Poetry does not have a setup.py that you can install in editable mode like with pip install -e ., however\n",
    "you can extract the generated setup.py file from the built tar.gz file in the dist directory.  Just extract the\n",
    ".tar.gz file and copy the setup.py file from the extracted directory to the root of gridappsd-python.  Then you can\n",
    "enable editing through pip install -e. as normal."
   ]
  },
  {
   "cell_type": "markdown",
   "metadata": {},
   "source": [
    "## Testing\n",
    "\n",
    "Testing has become an integral part of the software lifecycle.  The `gridappsd-python` library has both unit and\n",
    "integration tests available to be run.  In order to execute these, you must have installed the gridappsd-python library\n",
    "as above with dev-dependencies.\n",
    "\n",
    "During the testing phase the docker containers required for the tests are downloaded from\n",
    "dockerhub and started.  By default the `develop` tag is used to test the library using pytest.  \n",
    "One can customize the docker image tag by setting the environmental\n",
    "variable `GRIDAPPSD_TAG_ENV` either by `export GRIDAPPSD_TAG_ENV=other_tag` or by executing \n",
    "pytest with the following:\n",
    "\n",
    "```shell script\n",
    "\n",
    "# Export environmental variables and all tests will use the same tag (other_tag) to pull from docker hub.\n",
    "# Default tag is develop\n",
    "export GRIDAPPSD_TAG_ENV=other_tag\n",
    "pytest\n",
    "\n",
    "# Tests also require the username and password to be avaialable as environmental variables \n",
    "# in order for them to properly run these tests\n",
    "export GRIDAPPSD_USER=user\n",
    "export GRIDAPPSD_PASSWORD=pass\n",
    "\n",
    "pytest\n",
    "```"
   ]
  },
  {
   "cell_type": "code",
   "execution_count": null,
   "metadata": {
    "tags": [
     "remove_cell"
    ]
   },
   "outputs": [],
   "source": [
    "#Run this shell script from within the python notebook\n",
    "\n",
    "# Export environmental variables and all tests will use the same tag (other_tag) to pull from docker hub.\n",
    "# Default tag is develop\n",
    "!export GRIDAPPSD_TAG_ENV=other_tag\n",
    "!pytest\n",
    "\n",
    "# Tests also require the username and password to be avaialable as environmental variables \n",
    "# in order for them to properly run these tests\n",
    "!export GRIDAPPSD_USER=user\n",
    "!export GRIDAPPSD_PASSWORD=pass\n",
    "\n",
    "!pytest"
   ]
  },
  {
   "cell_type": "markdown",
   "metadata": {},
   "source": [
    " __NOTE: the first running the tests will download all of the docker images associated with the [GOSS-GridAPPS-D](http://github.com/GRIDAPPSD/GOSS-GridAPPS-D) repository.  \n",
    " may take a while.__"
   ]
  },
  {
   "cell_type": "markdown",
   "metadata": {},
   "source": [
    "### Running tests created in a new project\n",
    "\n",
    "The `gridappsd-python` library exposes a testing environment through the `gridappsd.docker_handler` module.  Including the following\n",
    "`conftest.py` in the root of your base test directory allows tests to reference these.  Using these fixtures will start all of the\n",
    "base containers required for `gridappsd` to run.  "
   ]
  },
  {
   "cell_type": "code",
   "execution_count": null,
   "metadata": {},
   "outputs": [],
   "source": [
    "# conftest.py\n",
    "# Create a conftest.py file in the root of the tests directory to enable usage throughout the tests directory and below. \n",
    "# \n",
    "# Tested project structure an layout\n",
    "#\n",
    "# project-folder\\\n",
    "#   mainmodule\\\n",
    "#     __init__.py\n",
    "#     myapplication.py\n",
    "#   tests\\\n",
    "#     conftest.py\n",
    "#     test_myapplication.py\n",
    "#   README.md\n",
    "\n",
    "import os\n",
    "\n",
    "import pytest\n",
    "\n",
    "from gridappsd import GridAPPSD\n",
    "from gridappsd.docker_handler import run_dependency_containers, run_gridappsd_container, Containers\n",
    "\n",
    "# If set to False then None of the containers will clean up after themselves.\n",
    "# If more than one test is ran then this will cause an error because the gridappsd\n",
    "# container will not be cleansed.\n",
    "STOP_CONTAINER_AFTER_TEST = os.environ.get(\"GRIDAPPSD_STOP_CONTAINERS_AFTER_TESTS\", True)\n",
    "\n",
    "if isinstance(STOP_CONTAINER_AFTER_TEST, str):\n",
    "    if STOP_CONTAINER_AFTER_TEST.lower() == 'false' or STOP_CONTAINER_AFTER_TEST.lower() != '0':\n",
    "        STOP_CONTAINER_AFTER_TEST = False\n",
    "    else:\n",
    "        STOP_CONTAINER_AFTER_TEST = True\n",
    "\n",
    "\n",
    "@pytest.fixture(scope=\"module\")\n",
    "def docker_dependencies():\n",
    "    print(\"Docker dependencies\")\n",
    "    Containers.reset_all_containers()\n",
    "\n",
    "    with run_dependency_containers(stop_after=STOP_CONTAINER_AFTER_TEST) as dep:\n",
    "        yield dep\n",
    "    print(\"Cleanup docker dependencies\")\n",
    "\n",
    "\n",
    "@pytest.fixture\n",
    "def gridappsd_client(docker_dependencies):\n",
    "    with run_gridappsd_container(stop_after=STOP_CONTAINER_AFTER_TEST):\n",
    "        gappsd = GridAPPSD()\n",
    "        gappsd.connect()\n",
    "        assert gappsd.connected\n",
    "\n",
    "        yield gappsd\n",
    "\n",
    "        gappsd.disconnect()\n"
   ]
  },
  {
   "cell_type": "markdown",
   "metadata": {},
   "source": [
    "Using the above fixtures from inside a test module and test function looks like the following"
   ]
  },
  {
   "cell_type": "code",
   "execution_count": null,
   "metadata": {},
   "outputs": [],
   "source": [
    "# Example test function using the gridappsd_client fixture \n",
    "\n",
    "@mock.patch.dict(os.environ, {\"GRIDAPPSD_APPLICATION_ID\": \"helics_goss_bridge.py\"})\n",
    "def test_gridappsd_status(gridappsd_client):\n",
    "    gappsd = gridappsd_client\n",
    "    assert \"helics_goss_bridge.py\" == gappsd.get_application_id()\n",
    "    assert gappsd.get_application_status() == ProcessStatusEnum.STARTING.value\n",
    "    assert gappsd.get_service_status() == ProcessStatusEnum.STARTING.value\n",
    "    gappsd.set_application_status(\"RUNNING\")\n",
    "\n",
    "    assert gappsd.get_service_status() == ProcessStatusEnum.RUNNING.value\n",
    "    assert gappsd.get_application_status() == ProcessStatusEnum.RUNNING.value\n",
    "\n",
    "    gappsd.set_service_status(\"COMPLETE\")\n",
    "    assert gappsd.get_service_status() == ProcessStatusEnum.COMPLETE.value\n",
    "    assert gappsd.get_application_status() == ProcessStatusEnum.COMPLETE.value\n",
    "\n",
    "    # Invalid\n",
    "    gappsd.set_service_status(\"Foo\")\n",
    "    assert gappsd.get_service_status() == ProcessStatusEnum.COMPLETE.value\n",
    "    assert gappsd.get_application_status() == ProcessStatusEnum.COMPLETE.value\n"
   ]
  }
 ],
 "metadata": {
  "celltoolbar": "Tags",
  "kernelspec": {
   "display_name": "Python 3",
   "language": "python",
   "name": "python3"
  },
  "language_info": {
   "codemirror_mode": {
    "name": "ipython",
    "version": 3
   },
   "file_extension": ".py",
   "mimetype": "text/x-python",
   "name": "python",
   "nbconvert_exporter": "python",
   "pygments_lexer": "ipython3",
   "version": "3.8.3"
  }
 },
 "nbformat": 4,
 "nbformat_minor": 4
}
